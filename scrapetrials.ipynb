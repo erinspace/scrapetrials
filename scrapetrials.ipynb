{
 "cells": [
  {
   "cell_type": "markdown",
   "metadata": {},
   "source": [
    "# Scraping trials for Publishers!\n",
    "\n",
    "List so far:\n",
    "- American Chemical Society\n",
    "- American Medical Association\n",
    "- Annals of Mathematics\n",
    "- American Psychological Association\n",
    "- BioMed Central\n",
    "- Duke University Press\n",
    "- eLife\n",
    "- Faculty 1000 Research\n",
    "- Frontiers\n",
    "- Highwire\n",
    "- Hindawi Publishing Corporation\n",
    "- Hogrefe\n",
    "- Institute of Physics\n",
    "- Lippincott Williams & Wilkins\n",
    "- MIT Press\n",
    "- Nature\n",
    "- Ovid\n",
    "- PeerJ\n",
    "- PLoS\n",
    "- PubMed Central\n",
    "- Royal Society of Chemistry\n",
    "- ScienceDirect\n",
    "- Society for Industrial and Applied Mathematics\n",
    "- Springer\n",
    "- Taylor & Francis\n",
    "- Thieme\n",
    "- Wiley"
   ]
  },
  {
   "cell_type": "code",
   "execution_count": 68,
   "metadata": {
    "collapsed": false
   },
   "outputs": [],
   "source": [
    "import requests\n",
    "import scrapelib\n",
    "from lxml import etree\n",
    "from bs4 import BeautifulSoup\n",
    "\n",
    "from selenium import webdriver"
   ]
  },
  {
   "cell_type": "markdown",
   "metadata": {},
   "source": [
    "## helpers"
   ]
  },
  {
   "cell_type": "code",
   "execution_count": 25,
   "metadata": {
    "collapsed": true
   },
   "outputs": [],
   "source": [
    "def get_elements_from_link(link):\n",
    "    content = requests.get(link).content\n",
    "    return etree.HTML(content)"
   ]
  },
  {
   "cell_type": "code",
   "execution_count": 40,
   "metadata": {
    "collapsed": true
   },
   "outputs": [],
   "source": [
    "def get_html_from_link(link):\n",
    "    return requests.get(link).content"
   ]
  },
  {
   "cell_type": "markdown",
   "metadata": {},
   "source": [
    "## link.springer.com"
   ]
  },
  {
   "cell_type": "code",
   "execution_count": 26,
   "metadata": {
    "collapsed": true
   },
   "outputs": [],
   "source": [
    "closed_springer = 'http://link.springer.com/chapter/10.1007%2F978-3-319-08747-4_9'"
   ]
  },
  {
   "cell_type": "code",
   "execution_count": 27,
   "metadata": {
    "collapsed": true
   },
   "outputs": [],
   "source": [
    "open_springer = 'http://link.springer.com/article/10.1007/s11084-015-9435-4'"
   ]
  },
  {
   "cell_type": "code",
   "execution_count": 28,
   "metadata": {
    "collapsed": false
   },
   "outputs": [],
   "source": [
    "def get_springer_open_access(element):\n",
    "    links = element.xpath('//a')\n",
    "    words = []\n",
    "    for link in links:\n",
    "        if 'viewtype' in link.keys():\n",
    "            if 'webtrekk-track' in link.get('class'):\n",
    "                words.append(link.get('viewtype'))\n",
    "    print(words)\n",
    "    if 'Denial' in words:\n",
    "        return False\n",
    "    else:\n",
    "        return True"
   ]
  },
  {
   "cell_type": "code",
   "execution_count": 29,
   "metadata": {
    "collapsed": true
   },
   "outputs": [],
   "source": [
    "def is_springer_open_access(link):\n",
    "    elem = get_elements_from_link(link)\n",
    "    return get_springer_open_access(elem)"
   ]
  },
  {
   "cell_type": "code",
   "execution_count": 30,
   "metadata": {
    "collapsed": false
   },
   "outputs": [
    {
     "name": "stdout",
     "output_type": "stream",
     "text": [
      "['Preview', 'Denial', 'Denial', 'Preview', 'Add to Papers']\n"
     ]
    },
    {
     "data": {
      "text/plain": [
       "False"
      ]
     },
     "execution_count": 30,
     "metadata": {},
     "output_type": "execute_result"
    }
   ],
   "source": [
    "is_springer_open_access(closed_springer)"
   ]
  },
  {
   "cell_type": "code",
   "execution_count": 31,
   "metadata": {
    "collapsed": false
   },
   "outputs": [
    {
     "name": "stdout",
     "output_type": "stream",
     "text": [
      "['Article pdf download', 'Full text download', 'Article pdf download', 'Full text download', 'Add to Papers']\n"
     ]
    },
    {
     "data": {
      "text/plain": [
       "True"
      ]
     },
     "execution_count": 31,
     "metadata": {},
     "output_type": "execute_result"
    }
   ],
   "source": [
    "is_springer_open_access(open_springer)        "
   ]
  },
  {
   "cell_type": "markdown",
   "metadata": {},
   "source": [
    "## sciencedirect.com\n",
    "### Now with Beautiful Soup!\n",
    "Note - this one is a lot harder because it uses Javascript to dynamically render a lot of the page content. Tricky."
   ]
  },
  {
   "cell_type": "code",
   "execution_count": 32,
   "metadata": {
    "collapsed": true
   },
   "outputs": [],
   "source": [
    "closed_sd_url = 'http://www.sciencedirect.com/science/article/pii/S0167880915001589'\n",
    "open_sd_url = 'http://www.sciencedirect.com/science/article/pii/S2212671614001024'"
   ]
  },
  {
   "cell_type": "code",
   "execution_count": 69,
   "metadata": {
    "collapsed": false
   },
   "outputs": [
    {
     "data": {
      "text/plain": [
       "<title>\\n The effects of herbivory and nutrients on plant biomass and carbon storage in Vertisols of an East African savanna\\n </title>"
      ]
     },
     "execution_count": 69,
     "metadata": {},
     "output_type": "execute_result"
    }
   ],
   "source": [
    "soup = BeautifulSoup(get_html_from_link(closed_sd_url))\n",
    "soup.title"
   ]
  },
  {
   "cell_type": "code",
   "execution_count": 74,
   "metadata": {
    "collapsed": false
   },
   "outputs": [
    {
     "data": {
      "text/plain": [
       "[<a class=\"authorName svAuthor\" data-fn=\"Lucy W.\" data-ln=\"Ngatia\" data-orcid=\"\" data-pos=\"1\" data-t=\"a\" data-tb=\"\" href=\"#\" id=\"authname_N37a42aa0N37ba3fa8\">Lucy W. Ngatia</a>,\n",
       " <a class=\"authorName svAuthor\" data-fn=\"Benjamin L.\" data-ln=\"Turner\" data-orcid=\"\" data-pos=\"2\" data-t=\"a\" data-tb=\"\" href=\"#\" id=\"authname_N37a42aa0N37ba405c\">Benjamin L. Turner</a>,\n",
       " <a class=\"authorName svAuthor\" data-fn=\"Jesee T.\" data-ln=\"Njoka\" data-orcid=\"\" data-pos=\"3\" data-t=\"a\" data-tb=\"\" href=\"#\" id=\"authname_N37a42aa0N37ba4110\">Jesee T. Njoka</a>,\n",
       " <a class=\"authorName svAuthor\" data-fn=\"Truman P.\" data-ln=\"Young\" data-orcid=\"\" data-pos=\"4\" data-t=\"a\" data-tb=\"\" href=\"#\" id=\"authname_N37a42aa0N37ba41c4\">Truman P. Young</a>,\n",
       " <a class=\"authorName svAuthor\" data-fn=\"K. Ramesh\" data-ln=\"Reddy\" data-orcid=\"\" data-pos=\"5\" data-t=\"a\" data-tb=\"\" href=\"#\" id=\"authname_N37a42aa0N37ba4278\">K. Ramesh Reddy</a>]"
      ]
     },
     "execution_count": 74,
     "metadata": {},
     "output_type": "execute_result"
    }
   ],
   "source": [
    "all_authors = soup.find_all(\"a\", class_=\"authorName\")\n",
    "all_authors"
   ]
  }
 ],
 "metadata": {
  "kernelspec": {
   "display_name": "Python 2",
   "language": "python",
   "name": "python2"
  },
  "language_info": {
   "codemirror_mode": {
    "name": "ipython",
    "version": 2
   },
   "file_extension": ".py",
   "mimetype": "text/x-python",
   "name": "python",
   "nbconvert_exporter": "python",
   "pygments_lexer": "ipython2",
   "version": "2.7.9"
  }
 },
 "nbformat": 4,
 "nbformat_minor": 0
}
